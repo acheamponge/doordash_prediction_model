{
  "nbformat": 4,
  "nbformat_minor": 0,
  "metadata": {
    "colab": {
      "name": "DoorDash_Delivery_Take_Home_Assignment.ipynb",
      "provenance": []
    },
    "kernelspec": {
      "name": "python3",
      "display_name": "Python 3"
    },
    "language_info": {
      "name": "python"
    }
  },
  "cells": [
    {
      "cell_type": "markdown",
      "metadata": {
        "id": "buYswinUPSyd"
      },
      "source": [
        ""
      ]
    },
    {
      "cell_type": "markdown",
      "metadata": {
        "id": "nOfBVrLDx6G_"
      },
      "source": [
        "# **DoorDash Machine Learning Data Science Take Home Assignment**"
      ]
    },
    {
      "cell_type": "markdown",
      "metadata": {
        "id": "Jm2YFyD82rbi"
      },
      "source": [
        "**Author: Emmanuel Acheampong**\n",
        "\n",
        "**Date: 11/14/2021**\n",
        "\n",
        "Due to the competitive landscape of the delivery app market, the ability to provide a fairly accurate estimation of delivery is essential to the business of DoorDash to be competitive. \n",
        "\n",
        "In this project. I'll be leveraging historical data to help predict the total delivery duration seconds it will take for a consumer's order to be delivered to them which will in turn help keep DoorDash maintain or improve it's bottom line. \n",
        "\n",
        "<br>\n",
        "<br>\n",
        "This notebook was built in Google Colab\n",
        "\n",
        "https://colab.research.google.com/drive/1um6PTa7W6pX-RmRn_uNtPfFvgvZp7S3i?usp=sharing\n",
        "\n",
        "<br>\n",
        "<br>\n",
        "\n",
        "*NB: Work done for this project uses work from Will Koehrsen' github repo on random_forests*\n",
        "\n",
        "\n",
        "*Sources: https://github.com/WillKoehrsen/Data-Analysis/tree/master/random_forest_explained*"
      ]
    },
    {
      "cell_type": "markdown",
      "metadata": {
        "id": "U4PnsCwmzbRM"
      },
      "source": [
        "<img src=\"https://www.supermarketnews.com/sites/supermarketnews.com/files/styles/article_featured_retina/public/DoorDash-online%20grocery%20delivery-Dasher_0_0.jpg?itok=U_saeazE\" />\n",
        "\n",
        "<img src=\"data:image/jpeg;base64,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\" />\n",
        "<img src=\"https://media4.giphy.com/media/VzkCRACE2PRdoJRx9c/200.gif\" />\n",
        "\n"
      ]
    },
    {
      "cell_type": "code",
      "metadata": {
        "id": "Rhup6f6b3EgW"
      },
      "source": [
        ""
      ],
      "execution_count": null,
      "outputs": []
    },
    {
      "cell_type": "markdown",
      "metadata": {
        "id": "Tlcpgmsg3Haz"
      },
      "source": [
        "# **Importing necessary models**"
      ]
    },
    {
      "cell_type": "code",
      "metadata": {
        "id": "5c8ZUoxou7F4"
      },
      "source": [
        "# importing necessary python modules\n",
        "import numpy as np\n",
        "import pandas as pd\n",
        "import seaborn as sns\n",
        "import matplotlib.pyplot as plt\n",
        "import torch\n",
        "import torch.nn as nn\n",
        "import torch.optim as optim\n",
        "from torch.utils.data import Dataset, DataLoader, WeightedRandomSampler\n",
        "from sklearn.preprocessing import MinMaxScaler    \n",
        "from sklearn.model_selection import train_test_split\n",
        "from sklearn.metrics import confusion_matrix, classification_report\n",
        "from sklearn.model_selection import RandomizedSearchCV\n",
        "from sklearn.ensemble import RandomForestRegressor\n",
        "from scipy import stats\n",
        "import joblib"
      ],
      "execution_count": null,
      "outputs": []
    },
    {
      "cell_type": "markdown",
      "metadata": {
        "id": "FdRpkmCQ3PAT"
      },
      "source": [
        "# **Data Acqusition**"
      ]
    },
    {
      "cell_type": "code",
      "metadata": {
        "colab": {
          "base_uri": "https://localhost:8080/"
        },
        "id": "SN-mPwMIvPur",
        "outputId": "122011fa-8136-40d0-bd2a-71cda180e009"
      },
      "source": [
        "# Connecting to the google drive for data\n",
        "from google.colab import drive\n",
        "drive.mount('/content/drive')"
      ],
      "execution_count": null,
      "outputs": [
        {
          "output_type": "stream",
          "name": "stdout",
          "text": [
            "Drive already mounted at /content/drive; to attempt to forcibly remount, call drive.mount(\"/content/drive\", force_remount=True).\n"
          ]
        }
      ]
    },
    {
      "cell_type": "code",
      "metadata": {
        "colab": {
          "base_uri": "https://localhost:8080/",
          "height": 202
        },
        "id": "9wbwzpxtvQ_u",
        "outputId": "32e93f08-b6ce-44cf-8e64-b4ade1efb625"
      },
      "source": [
        "doorDash_ds = pd.read_csv(\"/content/drive/MyDrive/DoorDash/historical_data.csv\")\n",
        "doorDash_ds.head()"
      ],
      "execution_count": null,
      "outputs": [
        {
          "output_type": "execute_result",
          "data": {
            "text/html": [
              "<div>\n",
              "<style scoped>\n",
              "    .dataframe tbody tr th:only-of-type {\n",
              "        vertical-align: middle;\n",
              "    }\n",
              "\n",
              "    .dataframe tbody tr th {\n",
              "        vertical-align: top;\n",
              "    }\n",
              "\n",
              "    .dataframe thead th {\n",
              "        text-align: right;\n",
              "    }\n",
              "</style>\n",
              "<table border=\"1\" class=\"dataframe\">\n",
              "  <thead>\n",
              "    <tr style=\"text-align: right;\">\n",
              "      <th></th>\n",
              "      <th>market_id</th>\n",
              "      <th>created_at</th>\n",
              "      <th>actual_delivery_time</th>\n",
              "      <th>store_id</th>\n",
              "      <th>subtotal</th>\n",
              "      <th>total_onshift_dashers</th>\n",
              "      <th>total_busy_dashers</th>\n",
              "      <th>total_outstanding_orders</th>\n",
              "      <th>estimated_store_to_consumer_driving_duration</th>\n",
              "    </tr>\n",
              "  </thead>\n",
              "  <tbody>\n",
              "    <tr>\n",
              "      <th>0</th>\n",
              "      <td>1.0</td>\n",
              "      <td>2015-02-06 22:24:17</td>\n",
              "      <td>2015-02-06 23:27:16</td>\n",
              "      <td>1845</td>\n",
              "      <td>3441</td>\n",
              "      <td>33.0</td>\n",
              "      <td>14.0</td>\n",
              "      <td>21.0</td>\n",
              "      <td>861.0</td>\n",
              "    </tr>\n",
              "    <tr>\n",
              "      <th>1</th>\n",
              "      <td>2.0</td>\n",
              "      <td>2015-02-10 21:49:25</td>\n",
              "      <td>2015-02-10 22:56:29</td>\n",
              "      <td>5477</td>\n",
              "      <td>1900</td>\n",
              "      <td>1.0</td>\n",
              "      <td>2.0</td>\n",
              "      <td>2.0</td>\n",
              "      <td>690.0</td>\n",
              "    </tr>\n",
              "    <tr>\n",
              "      <th>2</th>\n",
              "      <td>3.0</td>\n",
              "      <td>2015-01-22 20:39:28</td>\n",
              "      <td>2015-01-22 21:09:09</td>\n",
              "      <td>5477</td>\n",
              "      <td>1900</td>\n",
              "      <td>1.0</td>\n",
              "      <td>0.0</td>\n",
              "      <td>0.0</td>\n",
              "      <td>690.0</td>\n",
              "    </tr>\n",
              "    <tr>\n",
              "      <th>3</th>\n",
              "      <td>3.0</td>\n",
              "      <td>2015-02-03 21:21:45</td>\n",
              "      <td>2015-02-03 22:13:00</td>\n",
              "      <td>5477</td>\n",
              "      <td>6900</td>\n",
              "      <td>1.0</td>\n",
              "      <td>1.0</td>\n",
              "      <td>2.0</td>\n",
              "      <td>289.0</td>\n",
              "    </tr>\n",
              "    <tr>\n",
              "      <th>4</th>\n",
              "      <td>3.0</td>\n",
              "      <td>2015-02-15 02:40:36</td>\n",
              "      <td>2015-02-15 03:20:26</td>\n",
              "      <td>5477</td>\n",
              "      <td>3900</td>\n",
              "      <td>6.0</td>\n",
              "      <td>6.0</td>\n",
              "      <td>9.0</td>\n",
              "      <td>650.0</td>\n",
              "    </tr>\n",
              "  </tbody>\n",
              "</table>\n",
              "</div>"
            ],
            "text/plain": [
              "   market_id  ... estimated_store_to_consumer_driving_duration\n",
              "0        1.0  ...                                        861.0\n",
              "1        2.0  ...                                        690.0\n",
              "2        3.0  ...                                        690.0\n",
              "3        3.0  ...                                        289.0\n",
              "4        3.0  ...                                        650.0\n",
              "\n",
              "[5 rows x 9 columns]"
            ]
          },
          "metadata": {},
          "execution_count": 28
        }
      ]
    },
    {
      "cell_type": "code",
      "metadata": {
        "id": "hLmiRMQ5vm7B"
      },
      "source": [
        ""
      ],
      "execution_count": null,
      "outputs": []
    },
    {
      "cell_type": "markdown",
      "metadata": {
        "id": "Z7bh217Y3xUm"
      },
      "source": [
        "# **Exploratory Data Analysis**"
      ]
    },
    {
      "cell_type": "code",
      "metadata": {
        "colab": {
          "base_uri": "https://localhost:8080/"
        },
        "id": "11x5_Kv33wTl",
        "outputId": "d287f279-baa7-4e2d-af61-9ceea1970f3b"
      },
      "source": [
        "print('The shape of the features of the dataset is:', doorDash_ds.shape)"
      ],
      "execution_count": null,
      "outputs": [
        {
          "output_type": "stream",
          "name": "stdout",
          "text": [
            "The shape of the features of the dataset is: (197428, 9)\n"
          ]
        }
      ]
    },
    {
      "cell_type": "code",
      "metadata": {
        "colab": {
          "base_uri": "https://localhost:8080/",
          "height": 294
        },
        "id": "vRKjfKhQ38lA",
        "outputId": "c6165af3-071c-466b-e8cf-f185931d564b"
      },
      "source": [
        "doorDash_ds.describe()"
      ],
      "execution_count": null,
      "outputs": [
        {
          "output_type": "execute_result",
          "data": {
            "text/html": [
              "<div>\n",
              "<style scoped>\n",
              "    .dataframe tbody tr th:only-of-type {\n",
              "        vertical-align: middle;\n",
              "    }\n",
              "\n",
              "    .dataframe tbody tr th {\n",
              "        vertical-align: top;\n",
              "    }\n",
              "\n",
              "    .dataframe thead th {\n",
              "        text-align: right;\n",
              "    }\n",
              "</style>\n",
              "<table border=\"1\" class=\"dataframe\">\n",
              "  <thead>\n",
              "    <tr style=\"text-align: right;\">\n",
              "      <th></th>\n",
              "      <th>market_id</th>\n",
              "      <th>store_id</th>\n",
              "      <th>subtotal</th>\n",
              "      <th>total_onshift_dashers</th>\n",
              "      <th>total_busy_dashers</th>\n",
              "      <th>total_outstanding_orders</th>\n",
              "      <th>estimated_store_to_consumer_driving_duration</th>\n",
              "    </tr>\n",
              "  </thead>\n",
              "  <tbody>\n",
              "    <tr>\n",
              "      <th>count</th>\n",
              "      <td>196441.000000</td>\n",
              "      <td>197428.000000</td>\n",
              "      <td>197428.000000</td>\n",
              "      <td>181166.000000</td>\n",
              "      <td>181166.000000</td>\n",
              "      <td>181166.000000</td>\n",
              "      <td>196902.000000</td>\n",
              "    </tr>\n",
              "    <tr>\n",
              "      <th>mean</th>\n",
              "      <td>2.978706</td>\n",
              "      <td>3530.510272</td>\n",
              "      <td>2682.331402</td>\n",
              "      <td>44.808093</td>\n",
              "      <td>41.739747</td>\n",
              "      <td>58.050065</td>\n",
              "      <td>545.358935</td>\n",
              "    </tr>\n",
              "    <tr>\n",
              "      <th>std</th>\n",
              "      <td>1.524867</td>\n",
              "      <td>2053.496711</td>\n",
              "      <td>1823.093688</td>\n",
              "      <td>34.526783</td>\n",
              "      <td>32.145733</td>\n",
              "      <td>52.661830</td>\n",
              "      <td>219.352902</td>\n",
              "    </tr>\n",
              "    <tr>\n",
              "      <th>min</th>\n",
              "      <td>1.000000</td>\n",
              "      <td>1.000000</td>\n",
              "      <td>0.000000</td>\n",
              "      <td>-4.000000</td>\n",
              "      <td>-5.000000</td>\n",
              "      <td>-6.000000</td>\n",
              "      <td>0.000000</td>\n",
              "    </tr>\n",
              "    <tr>\n",
              "      <th>25%</th>\n",
              "      <td>2.000000</td>\n",
              "      <td>1686.000000</td>\n",
              "      <td>1400.000000</td>\n",
              "      <td>17.000000</td>\n",
              "      <td>15.000000</td>\n",
              "      <td>17.000000</td>\n",
              "      <td>382.000000</td>\n",
              "    </tr>\n",
              "    <tr>\n",
              "      <th>50%</th>\n",
              "      <td>3.000000</td>\n",
              "      <td>3592.000000</td>\n",
              "      <td>2200.000000</td>\n",
              "      <td>37.000000</td>\n",
              "      <td>34.000000</td>\n",
              "      <td>41.000000</td>\n",
              "      <td>544.000000</td>\n",
              "    </tr>\n",
              "    <tr>\n",
              "      <th>75%</th>\n",
              "      <td>4.000000</td>\n",
              "      <td>5299.000000</td>\n",
              "      <td>3395.000000</td>\n",
              "      <td>65.000000</td>\n",
              "      <td>62.000000</td>\n",
              "      <td>85.000000</td>\n",
              "      <td>702.000000</td>\n",
              "    </tr>\n",
              "    <tr>\n",
              "      <th>max</th>\n",
              "      <td>6.000000</td>\n",
              "      <td>6987.000000</td>\n",
              "      <td>27100.000000</td>\n",
              "      <td>171.000000</td>\n",
              "      <td>154.000000</td>\n",
              "      <td>285.000000</td>\n",
              "      <td>2088.000000</td>\n",
              "    </tr>\n",
              "  </tbody>\n",
              "</table>\n",
              "</div>"
            ],
            "text/plain": [
              "           market_id  ...  estimated_store_to_consumer_driving_duration\n",
              "count  196441.000000  ...                                 196902.000000\n",
              "mean        2.978706  ...                                    545.358935\n",
              "std         1.524867  ...                                    219.352902\n",
              "min         1.000000  ...                                      0.000000\n",
              "25%         2.000000  ...                                    382.000000\n",
              "50%         3.000000  ...                                    544.000000\n",
              "75%         4.000000  ...                                    702.000000\n",
              "max         6.000000  ...                                   2088.000000\n",
              "\n",
              "[8 rows x 7 columns]"
            ]
          },
          "metadata": {},
          "execution_count": 30
        }
      ]
    },
    {
      "cell_type": "code",
      "metadata": {
        "colab": {
          "base_uri": "https://localhost:8080/"
        },
        "id": "8oWvv-ic4hpm",
        "outputId": "625e6908-62e2-4c64-830f-3bf31d87c1a3"
      },
      "source": [
        "doorDash_ds.info()"
      ],
      "execution_count": null,
      "outputs": [
        {
          "output_type": "stream",
          "name": "stdout",
          "text": [
            "<class 'pandas.core.frame.DataFrame'>\n",
            "RangeIndex: 197428 entries, 0 to 197427\n",
            "Data columns (total 9 columns):\n",
            " #   Column                                        Non-Null Count   Dtype  \n",
            "---  ------                                        --------------   -----  \n",
            " 0   market_id                                     196441 non-null  float64\n",
            " 1   created_at                                    197428 non-null  object \n",
            " 2   actual_delivery_time                          197421 non-null  object \n",
            " 3   store_id                                      197428 non-null  int64  \n",
            " 4   subtotal                                      197428 non-null  int64  \n",
            " 5   total_onshift_dashers                         181166 non-null  float64\n",
            " 6   total_busy_dashers                            181166 non-null  float64\n",
            " 7   total_outstanding_orders                      181166 non-null  float64\n",
            " 8   estimated_store_to_consumer_driving_duration  196902 non-null  float64\n",
            "dtypes: float64(5), int64(2), object(2)\n",
            "memory usage: 13.6+ MB\n"
          ]
        }
      ]
    },
    {
      "cell_type": "code",
      "metadata": {
        "colab": {
          "base_uri": "https://localhost:8080/",
          "height": 577
        },
        "id": "U3r2w_OH41wL",
        "outputId": "1c42a38d-afea-4fb7-fbda-f31d286706dc"
      },
      "source": [
        "doorDash_ds_cat = doorDash_ds[\"market_id\"].value_counts().to_frame().reset_index()\n",
        "doorDash_ds_cat.columns = [\"market_id\",\"count\"]\n",
        "plt.figure(figsize = (10,8))\n",
        "sns.barplot(doorDash_ds_cat[\"market_id\"],doorDash_ds_cat[\"count\"])\n",
        "plt.xticks(rotation=35)\n",
        "#plt.figure(figsize = (10,8))"
      ],
      "execution_count": null,
      "outputs": [
        {
          "output_type": "stream",
          "name": "stderr",
          "text": [
            "/usr/local/lib/python3.7/dist-packages/seaborn/_decorators.py:43: FutureWarning: Pass the following variables as keyword args: x, y. From version 0.12, the only valid positional argument will be `data`, and passing other arguments without an explicit keyword will result in an error or misinterpretation.\n",
            "  FutureWarning\n"
          ]
        },
        {
          "output_type": "execute_result",
          "data": {
            "text/plain": [
              "(array([0, 1, 2, 3, 4, 5]), <a list of 6 Text major ticklabel objects>)"
            ]
          },
          "metadata": {},
          "execution_count": 32
        },
        {
          "output_type": "display_data",
          "data": {
            "image/png": "[encoded data removed]",
            "text/plain": [
              "<Figure size 720x576 with 1 Axes>"
            ]
          },
          "metadata": {
            "needs_background": "light"
          }
        }
      ]
    },
    {
      "cell_type": "code",
      "metadata": {
        "id": "ydtRDoHN5uFG"
      },
      "source": [
        ""
      ],
      "execution_count": null,
      "outputs": []
    },
    {
      "cell_type": "markdown",
      "metadata": {
        "id": "HfpDVPrs8N__"
      },
      "source": [
        "# **Data Pre-Processing**\n",
        "\n"
      ]
    },
    {
      "cell_type": "code",
      "metadata": {
        "colab": {
          "base_uri": "https://localhost:8080/",
          "height": 202
        },
        "id": "0yzOHNeE8Fnk",
        "outputId": "9e69f2c3-1ec4-4a06-899b-cf14cb4e7ae2"
      },
      "source": [
        "#Removing all null rows\n",
        "def clean_dataset(df):\n",
        "    assert isinstance(df, pd.DataFrame), \"df needs to be a pd.DataFrame\"\n",
        "    df.dropna(inplace=True)\n",
        "    indices_to_keep = ~df.isin([np.nan, np.inf, -np.inf]).any(1)\n",
        "    return df[indices_to_keep]\n",
        "#\n",
        "clean_dataset(doorDash_ds).head()"
      ],
      "execution_count": null,
      "outputs": [
        {
          "output_type": "execute_result",
          "data": {
            "text/html": [
              "<div>\n",
              "<style scoped>\n",
              "    .dataframe tbody tr th:only-of-type {\n",
              "        vertical-align: middle;\n",
              "    }\n",
              "\n",
              "    .dataframe tbody tr th {\n",
              "        vertical-align: top;\n",
              "    }\n",
              "\n",
              "    .dataframe thead th {\n",
              "        text-align: right;\n",
              "    }\n",
              "</style>\n",
              "<table border=\"1\" class=\"dataframe\">\n",
              "  <thead>\n",
              "    <tr style=\"text-align: right;\">\n",
              "      <th></th>\n",
              "      <th>market_id</th>\n",
              "      <th>created_at</th>\n",
              "      <th>actual_delivery_time</th>\n",
              "      <th>store_id</th>\n",
              "      <th>subtotal</th>\n",
              "      <th>total_onshift_dashers</th>\n",
              "      <th>total_busy_dashers</th>\n",
              "      <th>total_outstanding_orders</th>\n",
              "      <th>estimated_store_to_consumer_driving_duration</th>\n",
              "    </tr>\n",
              "  </thead>\n",
              "  <tbody>\n",
              "    <tr>\n",
              "      <th>0</th>\n",
              "      <td>1.0</td>\n",
              "      <td>2015-02-06 22:24:17</td>\n",
              "      <td>2015-02-06 23:27:16</td>\n",
              "      <td>1845</td>\n",
              "      <td>3441</td>\n",
              "      <td>33.0</td>\n",
              "      <td>14.0</td>\n",
              "      <td>21.0</td>\n",
              "      <td>861.0</td>\n",
              "    </tr>\n",
              "    <tr>\n",
              "      <th>1</th>\n",
              "      <td>2.0</td>\n",
              "      <td>2015-02-10 21:49:25</td>\n",
              "      <td>2015-02-10 22:56:29</td>\n",
              "      <td>5477</td>\n",
              "      <td>1900</td>\n",
              "      <td>1.0</td>\n",
              "      <td>2.0</td>\n",
              "      <td>2.0</td>\n",
              "      <td>690.0</td>\n",
              "    </tr>\n",
              "    <tr>\n",
              "      <th>2</th>\n",
              "      <td>3.0</td>\n",
              "      <td>2015-01-22 20:39:28</td>\n",
              "      <td>2015-01-22 21:09:09</td>\n",
              "      <td>5477</td>\n",
              "      <td>1900</td>\n",
              "      <td>1.0</td>\n",
              "      <td>0.0</td>\n",
              "      <td>0.0</td>\n",
              "      <td>690.0</td>\n",
              "    </tr>\n",
              "    <tr>\n",
              "      <th>3</th>\n",
              "      <td>3.0</td>\n",
              "      <td>2015-02-03 21:21:45</td>\n",
              "      <td>2015-02-03 22:13:00</td>\n",
              "      <td>5477</td>\n",
              "      <td>6900</td>\n",
              "      <td>1.0</td>\n",
              "      <td>1.0</td>\n",
              "      <td>2.0</td>\n",
              "      <td>289.0</td>\n",
              "    </tr>\n",
              "    <tr>\n",
              "      <th>4</th>\n",
              "      <td>3.0</td>\n",
              "      <td>2015-02-15 02:40:36</td>\n",
              "      <td>2015-02-15 03:20:26</td>\n",
              "      <td>5477</td>\n",
              "      <td>3900</td>\n",
              "      <td>6.0</td>\n",
              "      <td>6.0</td>\n",
              "      <td>9.0</td>\n",
              "      <td>650.0</td>\n",
              "    </tr>\n",
              "  </tbody>\n",
              "</table>\n",
              "</div>"
            ],
            "text/plain": [
              "   market_id  ... estimated_store_to_consumer_driving_duration\n",
              "0        1.0  ...                                        861.0\n",
              "1        2.0  ...                                        690.0\n",
              "2        3.0  ...                                        690.0\n",
              "3        3.0  ...                                        289.0\n",
              "4        3.0  ...                                        650.0\n",
              "\n",
              "[5 rows x 9 columns]"
            ]
          },
          "metadata": {},
          "execution_count": 33
        }
      ]
    },
    {
      "cell_type": "code",
      "metadata": {
        "id": "q9LtY_yq9BID"
      },
      "source": [
        "# Add new column for delivery time \n",
        "doorDash_ds[\"delivery_time_in_seconds\"]=(pd.to_datetime(pd.Series(doorDash_ds.actual_delivery_time)) - pd.to_datetime(pd.Series(doorDash_ds.created_at))).dt.total_seconds()\n",
        "\n",
        "# Create new columns for day, year, month of created time, to potetially make datetime a feature in the model\n",
        "doorDash_ds[\"available_dashers\"]=doorDash_ds[\"total_onshift_dashers\"] - doorDash_ds[\"total_busy_dashers\"]\n",
        "doorDash_ds[\"day\"] = (pd.to_datetime(pd.Series(doorDash_ds.created_at))).dt.dayofweek\n",
        "doorDash_ds[\"year\"] = (pd.to_datetime(pd.Series(doorDash_ds.created_at))).dt.year\n",
        "doorDash_ds[\"month\"] = (pd.to_datetime(pd.Series(doorDash_ds.created_at))).dt.month\n",
        "doorDash_ds[\"hour\"] = (pd.to_datetime(pd.Series(doorDash_ds.created_at))).dt.hour\n",
        "doorDash_ds[\"minute\"] = (pd.to_datetime(pd.Series(doorDash_ds.created_at))).dt.minute\n",
        "doorDash_ds[\"second\"] = (pd.to_datetime(pd.Series(doorDash_ds.created_at))).dt.second\n",
        "\n",
        "\n",
        "# Select columns for baseline features\n",
        "doorDash_ds_baseline = doorDash_ds [[\"market_id\",\"store_id\",\"total_onshift_dashers\", \"total_busy_dashers\", \"subtotal\",\"total_outstanding_orders\", \"estimated_store_to_consumer_driving_duration\",\"delivery_time_in_seconds\"]]"
      ],
      "execution_count": null,
      "outputs": []
    },
    {
      "cell_type": "code",
      "metadata": {
        "id": "HpQpfwYFGVSl"
      },
      "source": [
        "# Removing all outliers in the data\n",
        "z_scores = stats.zscore(doorDash_ds_baseline)\n",
        "abs_z_scores = np.abs(z_scores)\n",
        "filtered_entries = (abs_z_scores<3).all(axis=1)\n",
        "doorDash_ds_baseline = doorDash_ds_baseline[filtered_entries]"
      ],
      "execution_count": null,
      "outputs": []
    },
    {
      "cell_type": "markdown",
      "metadata": {
        "id": "o6I5AGFBGQpk"
      },
      "source": [
        "# **Baseline Features for model**\n",
        "\n"
      ]
    },
    {
      "cell_type": "code",
      "metadata": {
        "colab": {
          "base_uri": "https://localhost:8080/",
          "height": 202
        },
        "id": "FtrtlDvV_16A",
        "outputId": "68ba4153-3242-443b-9210-c86e913d4ee6"
      },
      "source": [
        "# One-hot encode categorical features (not really ne)\n",
        "doorDash_ds_baseline = pd.get_dummies(doorDash_ds_baseline)\n",
        "doorDash_ds_baseline.head(5)"
      ],
      "execution_count": null,
      "outputs": [
        {
          "output_type": "execute_result",
          "data": {
            "text/html": [
              "<div>\n",
              "<style scoped>\n",
              "    .dataframe tbody tr th:only-of-type {\n",
              "        vertical-align: middle;\n",
              "    }\n",
              "\n",
              "    .dataframe tbody tr th {\n",
              "        vertical-align: top;\n",
              "    }\n",
              "\n",
              "    .dataframe thead th {\n",
              "        text-align: right;\n",
              "    }\n",
              "</style>\n",
              "<table border=\"1\" class=\"dataframe\">\n",
              "  <thead>\n",
              "    <tr style=\"text-align: right;\">\n",
              "      <th></th>\n",
              "      <th>market_id</th>\n",
              "      <th>store_id</th>\n",
              "      <th>total_onshift_dashers</th>\n",
              "      <th>total_busy_dashers</th>\n",
              "      <th>subtotal</th>\n",
              "      <th>total_outstanding_orders</th>\n",
              "      <th>estimated_store_to_consumer_driving_duration</th>\n",
              "      <th>delivery_time_in_seconds</th>\n",
              "    </tr>\n",
              "  </thead>\n",
              "  <tbody>\n",
              "    <tr>\n",
              "      <th>0</th>\n",
              "      <td>1.0</td>\n",
              "      <td>1845</td>\n",
              "      <td>33.0</td>\n",
              "      <td>14.0</td>\n",
              "      <td>3441</td>\n",
              "      <td>21.0</td>\n",
              "      <td>861.0</td>\n",
              "      <td>3779.0</td>\n",
              "    </tr>\n",
              "    <tr>\n",
              "      <th>1</th>\n",
              "      <td>2.0</td>\n",
              "      <td>5477</td>\n",
              "      <td>1.0</td>\n",
              "      <td>2.0</td>\n",
              "      <td>1900</td>\n",
              "      <td>2.0</td>\n",
              "      <td>690.0</td>\n",
              "      <td>4024.0</td>\n",
              "    </tr>\n",
              "    <tr>\n",
              "      <th>2</th>\n",
              "      <td>3.0</td>\n",
              "      <td>5477</td>\n",
              "      <td>1.0</td>\n",
              "      <td>0.0</td>\n",
              "      <td>1900</td>\n",
              "      <td>0.0</td>\n",
              "      <td>690.0</td>\n",
              "      <td>1781.0</td>\n",
              "    </tr>\n",
              "    <tr>\n",
              "      <th>3</th>\n",
              "      <td>3.0</td>\n",
              "      <td>5477</td>\n",
              "      <td>1.0</td>\n",
              "      <td>1.0</td>\n",
              "      <td>6900</td>\n",
              "      <td>2.0</td>\n",
              "      <td>289.0</td>\n",
              "      <td>3075.0</td>\n",
              "    </tr>\n",
              "    <tr>\n",
              "      <th>4</th>\n",
              "      <td>3.0</td>\n",
              "      <td>5477</td>\n",
              "      <td>6.0</td>\n",
              "      <td>6.0</td>\n",
              "      <td>3900</td>\n",
              "      <td>9.0</td>\n",
              "      <td>650.0</td>\n",
              "      <td>2390.0</td>\n",
              "    </tr>\n",
              "  </tbody>\n",
              "</table>\n",
              "</div>"
            ],
            "text/plain": [
              "   market_id  ...  delivery_time_in_seconds\n",
              "0        1.0  ...                    3779.0\n",
              "1        2.0  ...                    4024.0\n",
              "2        3.0  ...                    1781.0\n",
              "3        3.0  ...                    3075.0\n",
              "4        3.0  ...                    2390.0\n",
              "\n",
              "[5 rows x 8 columns]"
            ]
          },
          "metadata": {},
          "execution_count": 87
        }
      ]
    },
    {
      "cell_type": "code",
      "metadata": {
        "id": "B-zxzVJYBLyY"
      },
      "source": [
        "#labels and features\n",
        "doorDash_ds_baseline_features = np.array(doorDash_ds_baseline.iloc[:, 0:-1])\n",
        "doorDash_ds_baseline_labels = np.array(doorDash_ds_baseline.iloc[:, -1])"
      ],
      "execution_count": null,
      "outputs": []
    },
    {
      "cell_type": "code",
      "metadata": {
        "id": "oLNtd8IcCklf"
      },
      "source": [
        "train_features, test_features, train_labels, test_labels = train_test_split(doorDash_ds_baseline_features, doorDash_ds_baseline_labels, test_size = 0.2,\n",
        "                                                                           random_state = 45)"
      ],
      "execution_count": null,
      "outputs": []
    },
    {
      "cell_type": "code",
      "metadata": {
        "colab": {
          "base_uri": "https://localhost:8080/"
        },
        "id": "hdI4m9lnCwg1",
        "outputId": "43c6a384-4e66-48fb-abe2-b82296807597"
      },
      "source": [
        "print('Baseline Training Features Shape:', train_features.shape)\n",
        "print('Baseline Training Labels Shape:', train_labels.shape)\n",
        "print('Baseline Testing Features Shape:', test_features.shape)\n",
        "print('Baseline Testing Labels Shape:', test_labels.shape)"
      ],
      "execution_count": null,
      "outputs": [
        {
          "output_type": "stream",
          "name": "stdout",
          "text": [
            "Baseline Training Features Shape: (138794, 7)\n",
            "Baseline Training Labels Shape: (138794,)\n",
            "Baseline Testing Features Shape: (34699, 7)\n",
            "Baseline Testing Labels Shape: (34699,)\n"
          ]
        }
      ]
    },
    {
      "cell_type": "code",
      "metadata": {
        "colab": {
          "base_uri": "https://localhost:8080/"
        },
        "id": "JT-ySG4uC_iB",
        "outputId": "3175ddc3-4064-4aed-cf05-c9f7bc0c258d"
      },
      "source": [
        "# The baseline predictions are the historical averages\n",
        "baseline_preds = test_features[:, -2]\n",
        "\n",
        "# Baseline errors, and display average baseline error\n",
        "baseline_errors = abs(baseline_preds - test_labels)\n",
        "print('Average baseline error: ', round(np.mean(baseline_errors), 2), 'seconds.')"
      ],
      "execution_count": null,
      "outputs": [
        {
          "output_type": "stream",
          "name": "stdout",
          "text": [
            "Average baseline error:  2748.97 seconds.\n"
          ]
        }
      ]
    },
    {
      "cell_type": "code",
      "metadata": {
        "id": "xfCpnNlZEOP6"
      },
      "source": [
        ""
      ],
      "execution_count": null,
      "outputs": []
    },
    {
      "cell_type": "markdown",
      "metadata": {
        "id": "ekqTSKi_GaFT"
      },
      "source": [
        "# **Training Baseline Model**"
      ]
    },
    {
      "cell_type": "code",
      "metadata": {
        "id": "C-fcHEZeEfA_"
      },
      "source": [
        "# Instantiate model \n",
        "rf = RandomForestRegressor(n_estimators= 200, random_state=42)\n",
        "\n",
        "# Train the model on training data\n",
        "rf.fit(train_features, train_labels);"
      ],
      "execution_count": null,
      "outputs": []
    },
    {
      "cell_type": "code",
      "metadata": {
        "colab": {
          "base_uri": "https://localhost:8080/"
        },
        "id": "PU94weqbFJaB",
        "outputId": "9db78f7c-513c-47dc-88e1-d91373eb30a9"
      },
      "source": [
        "predictions = rf.predict(test_features)\n",
        "\n",
        "# Calculate the absolute errors\n",
        "errors = abs(predictions - test_labels)\n",
        "\n",
        "# Print out the mean absolute error (mae)\n",
        "print('Mean Absolute Error:', round(np.mean(errors), 2), 'seconds.')"
      ],
      "execution_count": null,
      "outputs": [
        {
          "output_type": "stream",
          "name": "stdout",
          "text": [
            "Mean Absolute Error: 665.01 seconds.\n"
          ]
        }
      ]
    },
    {
      "cell_type": "code",
      "metadata": {
        "colab": {
          "base_uri": "https://localhost:8080/"
        },
        "id": "huHZWlCRL33T",
        "outputId": "f201f55d-7867-4102-e0ee-6d0339214753"
      },
      "source": [
        "# Calculate mean absolute percentage error (MAPE)\n",
        "mape = 100 * (errors / test_labels)\n",
        "\n",
        "# Calculate and display accuracy\n",
        "accuracy = 100 - np.mean(mape)\n",
        "print('Accuracy:', round(accuracy, 2), '%.')"
      ],
      "execution_count": null,
      "outputs": [
        {
          "output_type": "stream",
          "name": "stdout",
          "text": [
            "Accuracy: 74.12 %.\n"
          ]
        }
      ]
    },
    {
      "cell_type": "code",
      "metadata": {
        "colab": {
          "base_uri": "https://localhost:8080/"
        },
        "id": "fFzZHbNOg66r",
        "outputId": "6effd08a-0452-44fa-ce55-ed7fa1138d32"
      },
      "source": [
        "np.mean(mape)"
      ],
      "execution_count": null,
      "outputs": [
        {
          "output_type": "execute_result",
          "data": {
            "text/plain": [
              "25.8771348668072"
            ]
          },
          "metadata": {},
          "execution_count": 44
        }
      ]
    },
    {
      "cell_type": "markdown",
      "metadata": {
        "id": "QGHzmKjCPnNi"
      },
      "source": [
        "# **Feature Selection: Training Model with only more features**"
      ]
    },
    {
      "cell_type": "code",
      "metadata": {
        "id": "cztIpeb1MAIC"
      },
      "source": [
        "\n",
        "rf_new = RandomForestRegressor(n_estimators = 200, criterion = 'mse', max_depth = None, \n",
        "                               min_samples_split = 2, min_samples_leaf = 1)"
      ],
      "execution_count": null,
      "outputs": []
    },
    {
      "cell_type": "code",
      "metadata": {
        "colab": {
          "base_uri": "https://localhost:8080/"
        },
        "id": "CR4nID4oMjOQ",
        "outputId": "cc11eb12-991c-4fcf-e700-804f47078d67"
      },
      "source": [
        "# Get numerical feature importances\n",
        "importances = list(rf.feature_importances_)\n",
        "\n",
        "# List of tuples with variable and importance\n",
        "feature_importances = [(feature, round(importance, 2)) for feature, importance in zip(doorDash_ds_baseline.iloc[:, 0:-1].columns, importances)]\n",
        "\n",
        "# Sort the feature importances by most important first\n",
        "feature_importances = sorted(feature_importances, key = lambda x: x[1], reverse = True)\n",
        "\n",
        "# Print out the feature and importances \n",
        "[print('Variable: {:20} Importance: {}'.format(*pair)) for pair in feature_importances];"
      ],
      "execution_count": null,
      "outputs": [
        {
          "output_type": "stream",
          "name": "stdout",
          "text": [
            "Variable: estimated_store_to_consumer_driving_duration Importance: 0.21\n",
            "Variable: subtotal             Importance: 0.18\n",
            "Variable: total_outstanding_orders Importance: 0.18\n",
            "Variable: store_id             Importance: 0.15\n",
            "Variable: total_onshift_dashers Importance: 0.14\n",
            "Variable: total_busy_dashers   Importance: 0.09\n",
            "Variable: market_id            Importance: 0.05\n"
          ]
        }
      ]
    },
    {
      "cell_type": "code",
      "metadata": {
        "id": "9M48_2K4Onfq"
      },
      "source": [
        "doorDash_ds_baseline_updated = doorDash_ds [[\"market_id\",\"store_id\",\"month\",\"day\",\"hour\",\"minute\",\"second\",\"total_onshift_dashers\", \"total_busy_dashers\",\"available_dashers\", \"subtotal\",\"total_outstanding_orders\", \"estimated_store_to_consumer_driving_duration\",\"delivery_time_in_seconds\"]]\n",
        "\n",
        "# Removing all outliers\n",
        "z_scores = stats.zscore(doorDash_ds_baseline_updated)\n",
        "abs_z_scores = np.abs(z_scores)\n",
        "filtered_entries = (abs_z_scores<3).all(axis=1)\n",
        "doorDash_ds_baseline_updated = doorDash_ds_baseline_updated[filtered_entries]\n",
        "\n",
        "\n",
        "doorDash_ds_baseline_features_updated = np.array(doorDash_ds_baseline_updated.iloc[:, 0:-1])\n",
        "doorDash_ds_baseline_labels_updated = np.array(doorDash_ds_baseline_updated.iloc[:, -1])"
      ],
      "execution_count": null,
      "outputs": []
    },
    {
      "cell_type": "code",
      "metadata": {
        "id": "ZAdIVHreS15o"
      },
      "source": [
        "train_features, test_features, train_labels, test_labels = train_test_split(doorDash_ds_baseline_features_updated, doorDash_ds_baseline_labels_updated, \n",
        "                                                                            test_size = 0.25, random_state = 42)"
      ],
      "execution_count": null,
      "outputs": []
    },
    {
      "cell_type": "code",
      "metadata": {
        "id": "xgJTQn2jSJUa"
      },
      "source": [
        "rf_exp = RandomForestRegressor(n_estimators= 200, random_state=42)\n",
        "rf_exp.fit(train_features, train_labels);"
      ],
      "execution_count": null,
      "outputs": []
    },
    {
      "cell_type": "code",
      "metadata": {
        "colab": {
          "base_uri": "https://localhost:8080/"
        },
        "id": "HkMGIy_1ThTZ",
        "outputId": "aceef3f8-c670-4821-d584-cf057742bf1b"
      },
      "source": [
        "# Make predictions on test data\n",
        "predictions = rf_exp.predict(test_features)\n",
        "\n",
        "# Performance metrics\n",
        "errors = abs(predictions - test_labels)\n",
        "\n",
        "print('Metrics for Random Forest Trained on Expanded Data')\n",
        "print('Average absolute error:', round(np.mean(errors), 4), 'degrees.')\n",
        "\n",
        "# Calculate mean absolute percentage error (MAPE)\n",
        "new_mape = np.mean(100 * (errors / test_labels))\n",
        "\n",
        "# Compare to baseline\n",
        "improvement_baseline = 100 * abs(new_mape - np.mean(mape)) / np.mean(mape)\n",
        "print('Improvement over baseline:', round(improvement_baseline, 2), '%.')\n",
        "\n",
        "# Calculate and display accuracy\n",
        "accuracy = 100 - new_mape\n",
        "print('Accuracy:', round(accuracy, 2), '%.')"
      ],
      "execution_count": null,
      "outputs": [
        {
          "output_type": "stream",
          "name": "stdout",
          "text": [
            "Metrics for Random Forest Trained on Expanded Data\n",
            "Average absolute error: 645.7282 degrees.\n",
            "Improvement over baseline: 3.16 %.\n",
            "Accuracy: 74.94 %.\n"
          ]
        }
      ]
    },
    {
      "cell_type": "code",
      "metadata": {
        "id": "WPL0cRZYeey6"
      },
      "source": [
        ""
      ],
      "execution_count": null,
      "outputs": []
    },
    {
      "cell_type": "markdown",
      "metadata": {
        "id": "8GL3Xdq2P-4c"
      },
      "source": [
        "# **Finding the most important features**"
      ]
    },
    {
      "cell_type": "code",
      "metadata": {
        "colab": {
          "base_uri": "https://localhost:8080/"
        },
        "id": "K-mJoIplU09G",
        "outputId": "2ba8986d-1290-4473-db13-749398a8b2e1"
      },
      "source": [
        "# Get numerical feature importances\n",
        "importances = list(rf_exp.feature_importances_)\n",
        "\n",
        "# List of tuples with variable and importance\n",
        "feature_importances = [(feature, round(importance, 2)) for feature, importance in zip(doorDash_ds_baseline_updated.iloc[:, 0:-1], importances)]\n",
        "\n",
        "# Sort the feature importances by most important first\n",
        "feature_importances = sorted(feature_importances, key = lambda x: x[1], reverse = True)\n",
        "\n",
        "# Print out the feature and importances \n",
        "[print('Variable: {:20} Importance: {}'.format(*pair)) for pair in feature_importances];"
      ],
      "execution_count": null,
      "outputs": [
        {
          "output_type": "stream",
          "name": "stdout",
          "text": [
            "Variable: subtotal             Importance: 0.11\n",
            "Variable: hour                 Importance: 0.1\n",
            "Variable: store_id             Importance: 0.09\n",
            "Variable: minute               Importance: 0.08\n",
            "Variable: available_dashers    Importance: 0.08\n",
            "Variable: second               Importance: 0.07\n",
            "Variable: day                  Importance: 0.06\n",
            "Variable: total_onshift_dashers Importance: 0.06\n",
            "Variable: total_busy_dashers   Importance: 0.05\n",
            "Variable: market_id            Importance: 0.03\n",
            "Variable: month                Importance: 0.02\n"
          ]
        }
      ]
    },
    {
      "cell_type": "code",
      "metadata": {
        "colab": {
          "base_uri": "https://localhost:8080/",
          "height": 522
        },
        "id": "jGTJxcTtc2sc",
        "outputId": "157e2b88-f8bf-48ec-9a31-1e044d61a5d5"
      },
      "source": [
        "x_values = list(range(len(importances)))\n",
        "# List of features sorted from most to least important\n",
        "sorted_importances = [importance[1] for importance in feature_importances]\n",
        "sorted_features = [importance[0] for importance in feature_importances]\n",
        "\n",
        "# Cumulative importances\n",
        "cumulative_importances = np.cumsum(sorted_importances)\n",
        "\n",
        "# Make a line graph\n",
        "plt.plot(x_values, cumulative_importances, 'g-')\n",
        "\n",
        "# Draw line at 95% of importance retained\n",
        "plt.hlines(y = 0.95, xmin=0, xmax=len(sorted_importances), color = 'r', linestyles = 'dashed')\n",
        "\n",
        "# Format x ticks and labels\n",
        "plt.xticks(x_values, sorted_features, rotation = 'vertical')\n",
        "\n",
        "# Axis labels and title\n",
        "plt.xlabel('Variable'); plt.ylabel('Cumulative Importance'); plt.title('Cumulative Importances');"
      ],
      "execution_count": null,
      "outputs": [
        {
          "output_type": "display_data",
          "data": {
            "image/png": "[encoded data removed]",
            "text/plain": [
              "<Figure size 432x288 with 1 Axes>"
            ]
          },
          "metadata": {
            "needs_background": "light"
          }
        }
      ]
    },
    {
      "cell_type": "markdown",
      "metadata": {
        "id": "1KFK8AfDQHwH"
      },
      "source": [
        "# **Training Model with Most Important Features**"
      ]
    },
    {
      "cell_type": "code",
      "metadata": {
        "id": "78JVpv_DV_S0"
      },
      "source": [
        "rf_most_important = RandomForestRegressor(n_estimators= 200, random_state=42)\n",
        "\n",
        "important_feature_names = [feature[0] for feature in feature_importances[0:6]]\n",
        "feature_list = list(doorDash_ds_baseline.iloc[:, 0:-1].columns)\n",
        "# Find the columns of the most important features\n",
        "important_indices = [doorDash_ds_baseline_updated.columns.get_loc(feature) for feature in important_feature_names]\n",
        "\n",
        "# Extract the two most important features\n",
        "train_important = train_features[:, important_indices]\n",
        "test_important = test_features[:, important_indices]\n"
      ],
      "execution_count": null,
      "outputs": []
    },
    {
      "cell_type": "code",
      "metadata": {
        "colab": {
          "base_uri": "https://localhost:8080/"
        },
        "id": "s17gnmb8c0bR",
        "outputId": "0e71a7ef-8df5-483c-830d-e3408d59cc03"
      },
      "source": [
        "rf_most_important.fit(train_important, train_labels)\n",
        "\n",
        "# Make predictions and determine the error\n",
        "predictions = rf_most_important.predict(test_important)\n",
        "\n",
        "errors = abs(predictions - test_labels)\n",
        "\n",
        "# Display the performance metrics\n",
        "print('Mean Absolute Error:', round(np.mean(errors), 2), 'degrees.')\n",
        "\n",
        "mape_important_features = np.mean(100 * (errors / test_labels))\n",
        "accuracy = 100 - mape_important_features\n",
        "\n",
        "print('Accuracy:', round(accuracy, 2), '%.')"
      ],
      "execution_count": null,
      "outputs": [
        {
          "output_type": "stream",
          "name": "stdout",
          "text": [
            "Mean Absolute Error: 718.24 degrees.\n",
            "Accuracy: 72.03 %.\n"
          ]
        }
      ]
    },
    {
      "cell_type": "markdown",
      "metadata": {
        "id": "vhUewjU9QQ-u"
      },
      "source": [
        ""
      ]
    },
    {
      "cell_type": "markdown",
      "metadata": {
        "id": "9sl0ubhKQRIh"
      },
      "source": [
        "# **Saving the Model**"
      ]
    },
    {
      "cell_type": "code",
      "metadata": {
        "colab": {
          "base_uri": "https://localhost:8080/"
        },
        "id": "zOFdnlt0kZ68",
        "outputId": "79ede9dc-945a-438a-f3ee-9a46f8f35f02"
      },
      "source": [
        "#Model to use is the tf_exp\n",
        "joblib.dump(rf_exp, \"doordash_random_forest.joblib\")"
      ],
      "execution_count": null,
      "outputs": [
        {
          "output_type": "execute_result",
          "data": {
            "text/plain": [
              "['doordash_random_forest.joblib']"
            ]
          },
          "metadata": {},
          "execution_count": 57
        }
      ]
    },
    {
      "cell_type": "code",
      "metadata": {
        "id": "_b_JiJWwQV9y"
      },
      "source": [
        ""
      ],
      "execution_count": null,
      "outputs": []
    },
    {
      "cell_type": "code",
      "metadata": {
        "id": "OogGqCnNQWJ1"
      },
      "source": [
        ""
      ],
      "execution_count": null,
      "outputs": []
    },
    {
      "cell_type": "markdown",
      "metadata": {
        "id": "TNQdKgzmQWWJ"
      },
      "source": [
        "# **Predicting Delivery Time in Seconds for the predict_data file**"
      ]
    },
    {
      "cell_type": "code",
      "metadata": {
        "id": "5K5libcjlgOD"
      },
      "source": [
        "loaded_rf = joblib.load(\"doordash_random_forest.joblib\")"
      ],
      "execution_count": null,
      "outputs": []
    },
    {
      "cell_type": "code",
      "metadata": {
        "id": "0OKbTyP8I0ew"
      },
      "source": [
        "predictions = loaded_rf.predict(test_features)"
      ],
      "execution_count": null,
      "outputs": []
    },
    {
      "cell_type": "code",
      "metadata": {
        "colab": {
          "base_uri": "https://localhost:8080/",
          "height": 202
        },
        "id": "a0lHtczBI0i7",
        "outputId": "82d2ad1a-01ac-49f1-eae8-b3ea8a27ca46"
      },
      "source": [
        "doorDash_ds_pred = pd.read_csv(\"/content/drive/MyDrive/DoorDash/predict_data.csv\")\n",
        "doorDash_ds_pred.head()"
      ],
      "execution_count": null,
      "outputs": [
        {
          "output_type": "execute_result",
          "data": {
            "text/html": [
              "<div>\n",
              "<style scoped>\n",
              "    .dataframe tbody tr th:only-of-type {\n",
              "        vertical-align: middle;\n",
              "    }\n",
              "\n",
              "    .dataframe tbody tr th {\n",
              "        vertical-align: top;\n",
              "    }\n",
              "\n",
              "    .dataframe thead th {\n",
              "        text-align: right;\n",
              "    }\n",
              "</style>\n",
              "<table border=\"1\" class=\"dataframe\">\n",
              "  <thead>\n",
              "    <tr style=\"text-align: right;\">\n",
              "      <th></th>\n",
              "      <th>market_id</th>\n",
              "      <th>created_at</th>\n",
              "      <th>store_id</th>\n",
              "      <th>subtotal</th>\n",
              "      <th>total_onshift_dashers</th>\n",
              "      <th>total_busy_dashers</th>\n",
              "      <th>total_outstanding_orders</th>\n",
              "      <th>estimated_store_to_consumer_driving_duration</th>\n",
              "      <th>delivery_id</th>\n",
              "    </tr>\n",
              "  </thead>\n",
              "  <tbody>\n",
              "    <tr>\n",
              "      <th>0</th>\n",
              "      <td>3.0</td>\n",
              "      <td>2015-02-25 02:22:30</td>\n",
              "      <td>5477</td>\n",
              "      <td>7500</td>\n",
              "      <td>4.0</td>\n",
              "      <td>4.0</td>\n",
              "      <td>4.0</td>\n",
              "      <td>670.0</td>\n",
              "      <td>194096</td>\n",
              "    </tr>\n",
              "    <tr>\n",
              "      <th>1</th>\n",
              "      <td>3.0</td>\n",
              "      <td>2015-02-25 01:14:19</td>\n",
              "      <td>5477</td>\n",
              "      <td>7100</td>\n",
              "      <td>4.0</td>\n",
              "      <td>1.0</td>\n",
              "      <td>1.0</td>\n",
              "      <td>446.0</td>\n",
              "      <td>236895</td>\n",
              "    </tr>\n",
              "    <tr>\n",
              "      <th>2</th>\n",
              "      <td>4.0</td>\n",
              "      <td>2015-02-22 02:27:44</td>\n",
              "      <td>5477</td>\n",
              "      <td>4500</td>\n",
              "      <td>9.0</td>\n",
              "      <td>7.0</td>\n",
              "      <td>6.0</td>\n",
              "      <td>504.0</td>\n",
              "      <td>190868</td>\n",
              "    </tr>\n",
              "    <tr>\n",
              "      <th>3</th>\n",
              "      <td>3.0</td>\n",
              "      <td>2015-02-25 01:32:39</td>\n",
              "      <td>5477</td>\n",
              "      <td>1700</td>\n",
              "      <td>3.0</td>\n",
              "      <td>3.0</td>\n",
              "      <td>3.0</td>\n",
              "      <td>687.0</td>\n",
              "      <td>183076</td>\n",
              "    </tr>\n",
              "    <tr>\n",
              "      <th>4</th>\n",
              "      <td>1.0</td>\n",
              "      <td>2015-02-24 05:20:45</td>\n",
              "      <td>2841</td>\n",
              "      <td>3150</td>\n",
              "      <td>4.0</td>\n",
              "      <td>4.0</td>\n",
              "      <td>4.0</td>\n",
              "      <td>528.0</td>\n",
              "      <td>186200</td>\n",
              "    </tr>\n",
              "  </tbody>\n",
              "</table>\n",
              "</div>"
            ],
            "text/plain": [
              "   market_id  ... delivery_id\n",
              "0        3.0  ...      194096\n",
              "1        3.0  ...      236895\n",
              "2        4.0  ...      190868\n",
              "3        3.0  ...      183076\n",
              "4        1.0  ...      186200\n",
              "\n",
              "[5 rows x 9 columns]"
            ]
          },
          "metadata": {},
          "execution_count": 60
        }
      ]
    },
    {
      "cell_type": "code",
      "metadata": {
        "colab": {
          "base_uri": "https://localhost:8080/",
          "height": 202
        },
        "id": "Fyum1wYAI0lr",
        "outputId": "9410ef08-dcd0-4cba-b10c-3573e07fb863"
      },
      "source": [
        "clean_dataset(doorDash_ds_pred).head()"
      ],
      "execution_count": null,
      "outputs": [
        {
          "output_type": "execute_result",
          "data": {
            "text/html": [
              "<div>\n",
              "<style scoped>\n",
              "    .dataframe tbody tr th:only-of-type {\n",
              "        vertical-align: middle;\n",
              "    }\n",
              "\n",
              "    .dataframe tbody tr th {\n",
              "        vertical-align: top;\n",
              "    }\n",
              "\n",
              "    .dataframe thead th {\n",
              "        text-align: right;\n",
              "    }\n",
              "</style>\n",
              "<table border=\"1\" class=\"dataframe\">\n",
              "  <thead>\n",
              "    <tr style=\"text-align: right;\">\n",
              "      <th></th>\n",
              "      <th>market_id</th>\n",
              "      <th>created_at</th>\n",
              "      <th>store_id</th>\n",
              "      <th>subtotal</th>\n",
              "      <th>total_onshift_dashers</th>\n",
              "      <th>total_busy_dashers</th>\n",
              "      <th>total_outstanding_orders</th>\n",
              "      <th>estimated_store_to_consumer_driving_duration</th>\n",
              "      <th>delivery_id</th>\n",
              "    </tr>\n",
              "  </thead>\n",
              "  <tbody>\n",
              "    <tr>\n",
              "      <th>0</th>\n",
              "      <td>3.0</td>\n",
              "      <td>2015-02-25 02:22:30</td>\n",
              "      <td>5477</td>\n",
              "      <td>7500</td>\n",
              "      <td>4.0</td>\n",
              "      <td>4.0</td>\n",
              "      <td>4.0</td>\n",
              "      <td>670.0</td>\n",
              "      <td>194096</td>\n",
              "    </tr>\n",
              "    <tr>\n",
              "      <th>1</th>\n",
              "      <td>3.0</td>\n",
              "      <td>2015-02-25 01:14:19</td>\n",
              "      <td>5477</td>\n",
              "      <td>7100</td>\n",
              "      <td>4.0</td>\n",
              "      <td>1.0</td>\n",
              "      <td>1.0</td>\n",
              "      <td>446.0</td>\n",
              "      <td>236895</td>\n",
              "    </tr>\n",
              "    <tr>\n",
              "      <th>2</th>\n",
              "      <td>4.0</td>\n",
              "      <td>2015-02-22 02:27:44</td>\n",
              "      <td>5477</td>\n",
              "      <td>4500</td>\n",
              "      <td>9.0</td>\n",
              "      <td>7.0</td>\n",
              "      <td>6.0</td>\n",
              "      <td>504.0</td>\n",
              "      <td>190868</td>\n",
              "    </tr>\n",
              "    <tr>\n",
              "      <th>3</th>\n",
              "      <td>3.0</td>\n",
              "      <td>2015-02-25 01:32:39</td>\n",
              "      <td>5477</td>\n",
              "      <td>1700</td>\n",
              "      <td>3.0</td>\n",
              "      <td>3.0</td>\n",
              "      <td>3.0</td>\n",
              "      <td>687.0</td>\n",
              "      <td>183076</td>\n",
              "    </tr>\n",
              "    <tr>\n",
              "      <th>4</th>\n",
              "      <td>1.0</td>\n",
              "      <td>2015-02-24 05:20:45</td>\n",
              "      <td>2841</td>\n",
              "      <td>3150</td>\n",
              "      <td>4.0</td>\n",
              "      <td>4.0</td>\n",
              "      <td>4.0</td>\n",
              "      <td>528.0</td>\n",
              "      <td>186200</td>\n",
              "    </tr>\n",
              "  </tbody>\n",
              "</table>\n",
              "</div>"
            ],
            "text/plain": [
              "   market_id  ... delivery_id\n",
              "0        3.0  ...      194096\n",
              "1        3.0  ...      236895\n",
              "2        4.0  ...      190868\n",
              "3        3.0  ...      183076\n",
              "4        1.0  ...      186200\n",
              "\n",
              "[5 rows x 9 columns]"
            ]
          },
          "metadata": {},
          "execution_count": 61
        }
      ]
    },
    {
      "cell_type": "code",
      "metadata": {
        "id": "rtTrL_VTI0oo"
      },
      "source": [
        "doorDash_ds_pred[\"available_dashers\"]=doorDash_ds_pred[\"total_onshift_dashers\"] - doorDash_ds_pred[\"total_busy_dashers\"]\n",
        "doorDash_ds_pred[\"day\"] = (pd.to_datetime(pd.Series(doorDash_ds_pred.created_at))).dt.dayofweek\n",
        "doorDash_ds_pred[\"year\"] = (pd.to_datetime(pd.Series(doorDash_ds_pred.created_at))).dt.year\n",
        "doorDash_ds_pred[\"month\"] = (pd.to_datetime(pd.Series(doorDash_ds_pred.created_at))).dt.month\n",
        "doorDash_ds_pred[\"hour\"] = (pd.to_datetime(pd.Series(doorDash_ds_pred.created_at))).dt.hour\n",
        "doorDash_ds_pred[\"minute\"] = (pd.to_datetime(pd.Series(doorDash_ds_pred.created_at))).dt.minute\n",
        "doorDash_ds_pred[\"second\"] = (pd.to_datetime(pd.Series(doorDash_ds_pred.created_at))).dt.second"
      ],
      "execution_count": null,
      "outputs": []
    },
    {
      "cell_type": "code",
      "metadata": {
        "id": "FlSFj_YpI0r5"
      },
      "source": [
        "doorDash_ds_pred_updated = doorDash_ds_pred [[\"market_id\",\"store_id\",\"month\",\"day\",\"hour\",\"minute\",\"second\",\"total_onshift_dashers\", \"total_busy_dashers\",\"available_dashers\", \"subtotal\",\"total_outstanding_orders\", \"estimated_store_to_consumer_driving_duration\"]]"
      ],
      "execution_count": null,
      "outputs": []
    },
    {
      "cell_type": "code",
      "metadata": {
        "id": "2VODuTnvI0vr"
      },
      "source": [
        "predictions = loaded_rf.predict(doorDash_ds_pred_updated)"
      ],
      "execution_count": null,
      "outputs": []
    },
    {
      "cell_type": "code",
      "metadata": {
        "colab": {
          "base_uri": "https://localhost:8080/",
          "height": 202
        },
        "id": "DleW950TI0yu",
        "outputId": "48d8e0d7-aab6-4a57-b7fe-9fa57dc049f8"
      },
      "source": [
        "predicted_df = pd.DataFrame()\n",
        "\n",
        "predicted_df[\"delivery_id\"] = doorDash_ds_pred[\"delivery_id\"]\n",
        "\n",
        "predicted_df[\"predicted_duration\"] = predictions\n",
        "\n",
        "predicted_df.head()"
      ],
      "execution_count": null,
      "outputs": [
        {
          "output_type": "execute_result",
          "data": {
            "text/html": [
              "<div>\n",
              "<style scoped>\n",
              "    .dataframe tbody tr th:only-of-type {\n",
              "        vertical-align: middle;\n",
              "    }\n",
              "\n",
              "    .dataframe tbody tr th {\n",
              "        vertical-align: top;\n",
              "    }\n",
              "\n",
              "    .dataframe thead th {\n",
              "        text-align: right;\n",
              "    }\n",
              "</style>\n",
              "<table border=\"1\" class=\"dataframe\">\n",
              "  <thead>\n",
              "    <tr style=\"text-align: right;\">\n",
              "      <th></th>\n",
              "      <th>delivery_id</th>\n",
              "      <th>predicted_duration</th>\n",
              "    </tr>\n",
              "  </thead>\n",
              "  <tbody>\n",
              "    <tr>\n",
              "      <th>0</th>\n",
              "      <td>194096</td>\n",
              "      <td>2701.470</td>\n",
              "    </tr>\n",
              "    <tr>\n",
              "      <th>1</th>\n",
              "      <td>236895</td>\n",
              "      <td>3057.830</td>\n",
              "    </tr>\n",
              "    <tr>\n",
              "      <th>2</th>\n",
              "      <td>190868</td>\n",
              "      <td>3653.435</td>\n",
              "    </tr>\n",
              "    <tr>\n",
              "      <th>3</th>\n",
              "      <td>183076</td>\n",
              "      <td>3114.180</td>\n",
              "    </tr>\n",
              "    <tr>\n",
              "      <th>4</th>\n",
              "      <td>186200</td>\n",
              "      <td>2871.550</td>\n",
              "    </tr>\n",
              "  </tbody>\n",
              "</table>\n",
              "</div>"
            ],
            "text/plain": [
              "   delivery_id  predicted_duration\n",
              "0       194096            2701.470\n",
              "1       236895            3057.830\n",
              "2       190868            3653.435\n",
              "3       183076            3114.180\n",
              "4       186200            2871.550"
            ]
          },
          "metadata": {},
          "execution_count": 80
        }
      ]
    },
    {
      "cell_type": "code",
      "metadata": {
        "id": "hR-lRRFHI06-"
      },
      "source": [
        "predicted_df.to_csv('predictions_for_deliveries.csv') "
      ],
      "execution_count": null,
      "outputs": []
    },
    {
      "cell_type": "code",
      "metadata": {
        "id": "R0qCQ5knI093"
      },
      "source": [
        ""
      ],
      "execution_count": null,
      "outputs": []
    },
    {
      "cell_type": "markdown",
      "metadata": {
        "id": "ws422zv1Qm7w"
      },
      "source": [
        "# **End**"
      ]
    },
    {
      "cell_type": "code",
      "metadata": {
        "id": "kSjh1u5AI1Az"
      },
      "source": [
        ""
      ],
      "execution_count": null,
      "outputs": []
    },
    {
      "cell_type": "code",
      "metadata": {
        "id": "qZOsyihEQhun"
      },
      "source": [
        ""
      ],
      "execution_count": null,
      "outputs": []
    },
    {
      "cell_type": "code",
      "metadata": {
        "id": "tt_nwC0sQhym"
      },
      "source": [
        ""
      ],
      "execution_count": null,
      "outputs": []
    },
    {
      "cell_type": "code",
      "metadata": {
        "id": "8JWsTzwnQh3R"
      },
      "source": [
        ""
      ],
      "execution_count": null,
      "outputs": []
    },
    {
      "cell_type": "markdown",
      "metadata": {
        "id": "4WusIVjgQist"
      },
      "source": [
        "# **Appendix**\n"
      ]
    },
    {
      "cell_type": "markdown",
      "metadata": {
        "id": "Of2l1XqNT_XA"
      },
      "source": [
        "This section refers to all the work that was done in addition to the creating the model but were removed to leave the model clean. \n",
        "\n",
        "\n",
        "<br>\n",
        "<br>\n"
      ]
    },
    {
      "cell_type": "markdown",
      "metadata": {
        "id": "P-bhVAyhYYNM"
      },
      "source": [
        ""
      ]
    },
    {
      "cell_type": "markdown",
      "metadata": {
        "id": "zDcBWsb8YYSG"
      },
      "source": [
        "**Adding Randomized Search and Using grid search to find the better model but it too too long and the rf_exp was a better model in terms of accuracy and performance and eventually decided against this**\n"
      ]
    },
    {
      "cell_type": "code",
      "metadata": {
        "id": "qlSd8WpClgRx"
      },
      "source": [
        "n_estimators = [int(x) for x in np.linspace(start = 0, stop = 200, num = 10)]\n",
        "# Number of features to consider at every split\n",
        "max_features = ['auto', 'sqrt']\n",
        "# Maximum number of levels in tree\n",
        "max_depth = [int(x) for x in np.linspace(10, 100, num = 10)]\n",
        "max_depth.append(None)\n",
        "# Minimum number of samples required to split a node\n",
        "min_samples_split = [2, 5, 10]\n",
        "# Minimum number of samples required at each leaf node\n",
        "min_samples_leaf = [1, 2, 4]\n",
        "# Method of selecting samples for training each tree\n",
        "bootstrap = [True, False]\n",
        "\n",
        "# Create the random grid\n",
        "random_grid = {'n_estimators': n_estimators,\n",
        "               'max_features': max_features,\n",
        "               'max_depth': max_depth,\n",
        "               'min_samples_split': min_samples_split,\n",
        "               'min_samples_leaf': min_samples_leaf,\n",
        "               'bootstrap': bootstrap}"
      ],
      "execution_count": null,
      "outputs": []
    },
    {
      "cell_type": "code",
      "metadata": {
        "id": "scHmDedjlhAU"
      },
      "source": [
        "rf = RandomForestRegressor()\n",
        "\n",
        "rf_random = RandomizedSearchCV(estimator=rf, param_distributions=random_grid,\n",
        "                              n_iter = 100, scoring='neg_mean_absolute_error', \n",
        "                              cv = 3, verbose=2, random_state=42, n_jobs=-1)\n",
        "\n",
        "# Fit the random search model\n",
        "rf_random.fit(train_features, train_labels)"
      ],
      "execution_count": null,
      "outputs": []
    },
    {
      "cell_type": "code",
      "metadata": {
        "id": "jQsy943flm5H"
      },
      "source": [
        "# Make predictions and determine the error\n",
        "predictions = rf_random.predict(test_important)\n",
        "\n",
        "errors = abs(predictions - test_labels)\n",
        "\n",
        "# Display the performance metrics\n",
        "print('Mean Absolute Error:', round(np.mean(errors), 2), 'degrees.')\n",
        "\n",
        "mape_important_features = np.mean(100 * (errors / test_labels))\n",
        "accuracy = 100 - mape_important_features\n",
        "\n",
        "print('Accuracy:', round(accuracy, 2), '%.')"
      ],
      "execution_count": null,
      "outputs": []
    },
    {
      "cell_type": "code",
      "metadata": {
        "id": "hC8Fc4j1ogF3"
      },
      "source": [
        ""
      ],
      "execution_count": null,
      "outputs": []
    },
    {
      "cell_type": "code",
      "metadata": {
        "id": "qdyd4zW8Zsgz"
      },
      "source": [
        ""
      ],
      "execution_count": null,
      "outputs": []
    },
    {
      "cell_type": "code",
      "metadata": {
        "id": "XsAPpOBaZslp"
      },
      "source": [
        ""
      ],
      "execution_count": null,
      "outputs": []
    },
    {
      "cell_type": "code",
      "metadata": {
        "id": "YfgSZHnoZso4"
      },
      "source": [
        ""
      ],
      "execution_count": null,
      "outputs": []
    },
    {
      "cell_type": "code",
      "metadata": {
        "id": "9GQggsaqZssW"
      },
      "source": [
        ""
      ],
      "execution_count": null,
      "outputs": []
    },
    {
      "cell_type": "code",
      "metadata": {
        "id": "9XRiurwyZsu3"
      },
      "source": [
        ""
      ],
      "execution_count": null,
      "outputs": []
    },
    {
      "cell_type": "markdown",
      "metadata": {
        "id": "ITvayB43ZzxX"
      },
      "source": [
        "**Tried a nonlinear deep neural network but the loss function was larger than the random forest regression model and so removed it as well**\n"
      ]
    },
    {
      "cell_type": "code",
      "metadata": {
        "id": "AhpCpjZKZsyU"
      },
      "source": [
        "import torch\n",
        "import torch.nn as nn\n",
        "import numpy as np\n",
        "import matplotlib.pyplot as plt\n",
        "from torch.utils.data import TensorDataset\n",
        "\n",
        "# Hyper-parameters\n",
        "input_size = 7\n",
        "output_size = 1\n",
        "num_epochs = 100\n",
        "learning_rate = 0.0001\n",
        "\n",
        "# Toy dataset\n",
        "x_train = np.array(X_train, dtype=np.float32)\n",
        "\n",
        "y_train = np.array(y_train, dtype=np.float32)\n",
        "\n",
        "x_test = np.array(X_test, dtype=np.float32)\n",
        "\n",
        "y_test = np.array(y_test, dtype=np.float32)\n",
        "\n",
        "def multi_acc(y_pred, y_test):\n",
        "    y_pred_softmax = torch.log_softmax(y_pred, dim = 1)\n",
        "    _, y_pred_tags = torch.max(y_pred_softmax, dim = 1)    \n",
        "    \n",
        "    correct_pred = (y_pred_tags == y_test).float()\n",
        "    acc = correct_pred.sum() / len(correct_pred)\n",
        "    \n",
        "    acc = torch.round(acc) * 100\n",
        "    \n",
        "    return acc\n",
        "\n",
        "# Linear regression model\n",
        "class LinearRegression(nn.Module):\n",
        "    def __init__(self,input_size,output_size):\n",
        "        super(LinearRegression,self).__init__()\n",
        "        self.layer_1 = nn.Linear(input_size, 512)\n",
        "        self.layer_2 = nn.Linear(512, 128)\n",
        "        self.layer_3 = nn.Linear(128, 64)\n",
        "        self.layer_out = nn.Linear(64, output_size) \n",
        "        \n",
        "        self.relu = nn.ReLU()\n",
        "        self.dropout = nn.Dropout(p=0.2)\n",
        "        self.batchnorm1 = nn.BatchNorm1d(512)\n",
        "        self.batchnorm2 = nn.BatchNorm1d(128)\n",
        "        self.batchnorm3 = nn.BatchNorm1d(64)\n",
        "\n",
        "    def forward(self,x):\n",
        "        x = self.layer_1(x)\n",
        "        x = self.batchnorm1(x)\n",
        "        x = self.relu(x)\n",
        "        \n",
        "        x = self.layer_2(x)\n",
        "        x = self.batchnorm2(x)\n",
        "        x = self.relu(x)\n",
        "        x = self.dropout(x)\n",
        "        \n",
        "        x = self.layer_3(x)\n",
        "        x = self.batchnorm3(x)\n",
        "        x = self.relu(x)\n",
        "        x = self.dropout(x)\n",
        "        \n",
        "        x = self.layer_out(x)\n",
        "        \n",
        "        return x\n",
        "\n",
        "model = LinearRegression(input_size, output_size)\n",
        "\n",
        "device = torch.device(\"cpu\")\n",
        "\n",
        "model.to(device)\n",
        "# Loss and optimizer\n",
        "criterion = nn.MSELoss()\n",
        "optimizer = torch.optim.SGD(model.parameters(), lr=learning_rate)  \n",
        "\n",
        "inputs = torch.from_numpy(x_train)\n",
        "targets = torch.from_numpy(y_train).unsqueeze(-1)\n",
        "train_ds = TensorDataset(inputs, targets)\n",
        "batch_size = 10\n",
        "train_dl = DataLoader(train_ds, batch_size, shuffle=True)\n",
        "\n",
        "\n",
        "test_inputs = torch.from_numpy(x_test)\n",
        "test_targets = torch.from_numpy(y_test).unsqueeze(-1)\n",
        "test_ds = TensorDataset(test_inputs, test_targets)\n",
        "\n",
        "val_loader = DataLoader(dataset=test_ds, batch_size=batch_size)\n",
        "\n",
        "accuracy_stats = {\n",
        "    'train': [],\n",
        "    \"val\": []\n",
        "}\n",
        "loss_stats = {\n",
        "    'train': [],\n",
        "    \"val\": []\n",
        "}\n",
        "# Train the model\n",
        "for epoch in range(num_epochs):\n",
        "    # Convert numpy arrays to torch tensors\n",
        "    train_epoch_loss = 0\n",
        "    train_epoch_acc = 0\n",
        "    model.train()\n",
        "    for inputs, targets in train_dl:\n",
        "\n",
        "    # Forward pass\n",
        "      outputs = model(inputs)\n",
        "      loss = criterion(outputs, targets)\n",
        "      train_acc = multi_acc(outputs, targets)\n",
        "      \n",
        "      # Backward and optimize\n",
        "      optimizer.zero_grad()\n",
        "      loss.backward()\n",
        "      optimizer.step()\n",
        "\n",
        "      train_epoch_loss += loss.item()\n",
        "      train_epoch_acc += train_acc.item()\n",
        "\n",
        "    \n",
        "\n",
        "    \n",
        "    #if (epoch+1) % 5 == 0:\n",
        "    #print ('Epoch [{}/{}], Loss: {:.4f}'.format(epoch+1, num_epochs, loss.item()))\n",
        "    with torch.no_grad():\n",
        "      val_epoch_loss = 0\n",
        "      val_epoch_acc = 0\n",
        "        \n",
        "      model.eval()\n",
        "      for X_val_batch, y_val_batch in val_loader:\n",
        "            X_val_batch, y_val_batch = X_val_batch.to(device), y_val_batch.to(device)\n",
        "            \n",
        "            y_val_pred = model(X_val_batch)\n",
        "                        \n",
        "            val_loss = criterion(y_val_pred, y_val_batch)\n",
        "            val_acc = multi_acc(y_val_pred, y_val_batch)\n",
        "            \n",
        "            val_epoch_loss += val_loss.item()\n",
        "            val_epoch_acc += val_acc.item()\n",
        "    loss_stats['train'].append(train_epoch_loss/len(train_dl))\n",
        "    loss_stats['val'].append(val_epoch_loss/len(val_loader))\n",
        "    accuracy_stats['train'].append(train_epoch_acc/len(train_dl))\n",
        "    accuracy_stats['val'].append(val_epoch_acc/len(val_loader))\n",
        "\n",
        "    print(f'Epoch {epoch+0:03}: | Train Loss: {train_epoch_loss/len(train_dl):.5f} | Val Loss: {val_epoch_loss/len(val_loader):.5f} | Train Acc: {train_epoch_acc/len(train_dl):.3f}| Val Acc: {val_epoch_acc/len(val_loader):.3f}')\n",
        "\n",
        "\n",
        "# Plot the graph\n",
        "predicted = model(torch.from_numpy(x_train)).detach().numpy()\n",
        "plt.plot(x_train, y_train, 'ro', label='Original data')\n",
        "plt.plot(x_train, predicted, label='Fitted line')\n",
        "plt.legend()\n",
        "plt.show()\n",
        "\n",
        "# Save the model checkpoint\n",
        "#torch.save(model.state_dict(), 'model.ckpt')"
      ],
      "execution_count": null,
      "outputs": []
    },
    {
      "cell_type": "code",
      "metadata": {
        "id": "vevZVwGTafWV"
      },
      "source": [
        ""
      ],
      "execution_count": null,
      "outputs": []
    },
    {
      "cell_type": "code",
      "metadata": {
        "id": "KPjxDueVafZI"
      },
      "source": [
        ""
      ],
      "execution_count": null,
      "outputs": []
    },
    {
      "cell_type": "code",
      "metadata": {
        "id": "DGIj96Qcafcc"
      },
      "source": [
        ""
      ],
      "execution_count": null,
      "outputs": []
    },
    {
      "cell_type": "markdown",
      "metadata": {
        "id": "5rrK1FzCau6C"
      },
      "source": [
        "**Linear regression was the first model I tried and wanted to confirm that a linear model would not work for this dataset because of the non linearity of the dataset**\n"
      ]
    },
    {
      "cell_type": "code",
      "metadata": {
        "id": "PGAqc_qUafuT"
      },
      "source": [
        "from sklearn.linear_model import LinearRegression\n",
        "# creating an object of LinearRegression class\n",
        "LR = LinearRegression()\n",
        "# fitting the training data\n",
        "LR.fit(X_train,y_train)\n",
        "\n",
        "y_prediction =  LR.predict(X_test)\n",
        "y_prediction\n",
        "\n",
        "from sklearn.metrics import r2_score\n",
        "from sklearn.metrics import mean_squared_error\n",
        "# predicting the accuracy score\n",
        "score=r2_score(y_test,y_prediction)\n",
        "print(\"r2 socre is\",score)\n",
        "print(\"mean_sqrd_error is==\",mean_squared_error(y_test,y_prediction))\n",
        "print(\"root_mean_squared error of is==\",np.sqrt(mean_squared_error(y_test,y_prediction)))"
      ],
      "execution_count": null,
      "outputs": []
    },
    {
      "cell_type": "code",
      "metadata": {
        "id": "Jg_kbeVbajM0"
      },
      "source": [
        ""
      ],
      "execution_count": null,
      "outputs": []
    },
    {
      "cell_type": "code",
      "metadata": {
        "id": "PybfVP6VbCvv"
      },
      "source": [
        ""
      ],
      "execution_count": null,
      "outputs": []
    },
    {
      "cell_type": "code",
      "metadata": {
        "id": "srVlxEnDbCyX"
      },
      "source": [
        ""
      ],
      "execution_count": null,
      "outputs": []
    },
    {
      "cell_type": "code",
      "metadata": {
        "id": "8wYrvOhTbC1A"
      },
      "source": [
        ""
      ],
      "execution_count": null,
      "outputs": []
    },
    {
      "cell_type": "markdown",
      "metadata": {
        "id": "J982h8LhbERg"
      },
      "source": [
        "**Tried a multioutput regressor which was also a bad choice**\n"
      ]
    },
    {
      "cell_type": "code",
      "metadata": {
        "id": "e_JbhwKjbC4c"
      },
      "source": [
        "from sklearn.datasets import make_regression\n",
        "from sklearn.multioutput import MultiOutputRegressor\n",
        "from sklearn.svm import SVR\n",
        "from sklearn.model_selection import train_test_split\n",
        "from sklearn.metrics import mean_squared_error, mean_absolute_error\n",
        "\n",
        "\n",
        "# Create the SVR regressor\n",
        "svr = SVR(epsilon=0.2)\n",
        "\n",
        "# Create the Multioutput Regressor\n",
        "mor = MultiOutputRegressor(svr)\n",
        "\n",
        "# Train the regressor\n",
        "mor = mor.fit(X_train, y_train)\n",
        "\n",
        "# Generate predictions for testing data\n",
        "y_pred = mor.predict(X_test)\n",
        "\n",
        "# Evaluate the regressor\n",
        "mse_one = mean_squared_error(y_test[:,0], y_pred[:,0])\n",
        "mse_two = mean_squared_error(y_test[:,1], y_pred[:,1])\n",
        "print(f'MSE for first regressor: {mse_one} - second regressor: {mse_two}')\n",
        "mae_one = mean_absolute_error(y_test[:,0], y_pred[:,0])\n",
        "mae_two = mean_absolute_error(y_test[:,1], y_pred[:,1])\n",
        "print(f'MAE for first regressor: {mae_one} - second regressor: {mae_two}')"
      ],
      "execution_count": null,
      "outputs": []
    },
    {
      "cell_type": "code",
      "metadata": {
        "id": "wNoKMYTHbb91"
      },
      "source": [
        "from sklearn.preprocessing import StandardScaler\n",
        "sc_X = StandardScaler()\n",
        "sc_y = StandardScaler()\n",
        "X = sc_X.fit_transform(X)\n",
        "y = sc_y.fit_transform(y.values.reshape(-1,1))\n",
        "\n",
        "from sklearn.svm import SVR\n",
        "regressor = SVR(kernel = 'rbf')\n",
        "regressor.fit(X, y)\n",
        "\n",
        "y_pred = regressor.predict(x_test)\n",
        "y_pred = sc_y.inverse_transform(y_pred) \n",
        "\n",
        "#X_grid = np.arange(min(X), max(X), 0.01) #this step required because data is feature scaled.\n",
        "#X_grid = X_grid.reshape((len(X_), 1))\n",
        "#plt.scatter(X_train, y_train, color = 'red')\n",
        "plt.plot(X_train, y_train, 'ro', label='Original data')\n",
        "plt.plot(X_train, regressor.predict(X_train), color = 'blue')\n",
        "plt.title('Truth or Bluff (SVR)')\n",
        "plt.xlabel('Position level')\n",
        "plt.ylabel('Salary')\n",
        "plt.show()"
      ],
      "execution_count": null,
      "outputs": []
    },
    {
      "cell_type": "code",
      "metadata": {
        "id": "Ogeq0_O5bf49"
      },
      "source": [
        ""
      ],
      "execution_count": null,
      "outputs": []
    },
    {
      "cell_type": "code",
      "metadata": {
        "id": "8X4ODFeWbqVE"
      },
      "source": [
        ""
      ],
      "execution_count": null,
      "outputs": []
    },
    {
      "cell_type": "code",
      "metadata": {
        "id": "43j5dzWzbqaw"
      },
      "source": [
        ""
      ],
      "execution_count": null,
      "outputs": []
    },
    {
      "cell_type": "code",
      "metadata": {
        "id": "-tuyAJG7bqmX"
      },
      "source": [
        ""
      ],
      "execution_count": null,
      "outputs": []
    },
    {
      "cell_type": "markdown",
      "metadata": {
        "id": "pjEsHiAAb9Hi"
      },
      "source": [
        "**Experimented with XGBBoost as well which was also a bad choice**\n"
      ]
    },
    {
      "cell_type": "code",
      "metadata": {
        "id": "ITy95Tzpbqt-"
      },
      "source": [
        "from xgboost import XGBClassifier\n",
        "\n",
        "xgb = XGBClassifier()\n",
        "\n",
        "xgb.fit(X_train,y_train)\n",
        "\n",
        "xgb.score(X_test,y_test.reshape(-1, 1))"
      ],
      "execution_count": null,
      "outputs": []
    },
    {
      "cell_type": "code",
      "metadata": {
        "id": "B8a6RRrdbs2D"
      },
      "source": [
        ""
      ],
      "execution_count": null,
      "outputs": []
    }
  ]
}